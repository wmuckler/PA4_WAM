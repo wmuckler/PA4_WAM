{
 "cells": [
  {
   "cell_type": "markdown",
   "id": "9129880e-666d-4c28-89a1-d0427a386f4f",
   "metadata": {},
   "source": [
    "# Programming Assignment 4\n",
    "---\n",
    "**Author:** William Muckler  \n",
    "**Version:** 1.0  \n",
    "**Semester:** Spring 2024 \n",
    "\n",
    "This *notebook* contains my solution(s) to **Programming Assignment 4**\n"
   ]
  },
  {
   "cell_type": "markdown",
   "id": "69781e3c-e727-4c83-8d8b-aff6039ec5de",
   "metadata": {},
   "source": [
    "### Problem 1- Swapping List Elements"
   ]
  },
  {
   "cell_type": "code",
   "execution_count": 63,
   "id": "28bc813a-6f31-4627-9280-ed05dcbd28a5",
   "metadata": {
    "tags": []
   },
   "outputs": [],
   "source": [
    "import random "
   ]
  },
  {
   "cell_type": "code",
   "execution_count": 64,
   "id": "cb4bb0c8-e884-4cf5-aab1-3503548922c8",
   "metadata": {
    "tags": []
   },
   "outputs": [
    {
     "name": "stdout",
     "output_type": "stream",
     "text": [
      "[75, 34, 27, 78, 53]\n"
     ]
    }
   ],
   "source": [
    "#set original list\n",
    "original=[]\n",
    "for i in range(5):\n",
    "    original.append(random.randint(0,100))\n",
    "    \n",
    "print(original)"
   ]
  },
  {
   "cell_type": "code",
   "execution_count": 65,
   "id": "fe32062e-2942-498d-85b0-3b38e2cefb63",
   "metadata": {
    "tags": []
   },
   "outputs": [],
   "source": [
    "#create a new list for the swap\n",
    "edited = []"
   ]
  },
  {
   "cell_type": "code",
   "execution_count": 66,
   "id": "81b7bf58-ada4-4e9e-9fc7-403967e2ea5f",
   "metadata": {
    "tags": []
   },
   "outputs": [],
   "source": [
    "#define the function to swap the first and last values\n",
    "def swap_first_last(original):\n",
    "    edited = original\n",
    "    original[0], original[-1] = edited[-1], edited[0]\n",
    "    return edited"
   ]
  },
  {
   "cell_type": "code",
   "execution_count": 67,
   "id": "3c199d6f-f544-4788-ada3-5a4fa5f2e202",
   "metadata": {
    "tags": []
   },
   "outputs": [
    {
     "name": "stdout",
     "output_type": "stream",
     "text": [
      "[53, 34, 27, 78, 75]\n"
     ]
    }
   ],
   "source": [
    "edited = swap_first_last(original)\n",
    "print(edited)"
   ]
  },
  {
   "cell_type": "markdown",
   "id": "12809044-82bb-4f75-b8fe-bfe9ceef3389",
   "metadata": {},
   "source": [
    "### Problem 2- Encoding Data"
   ]
  },
  {
   "cell_type": "code",
   "execution_count": 68,
   "id": "3dada011-7036-4cec-9618-f7664cad84d3",
   "metadata": {
    "tags": []
   },
   "outputs": [
    {
     "name": "stdout",
     "output_type": "stream",
     "text": [
      "[85, 38, 63, 46, 90]\n"
     ]
    }
   ],
   "source": [
    "#set original list\n",
    "original=[]\n",
    "for i in range(5):\n",
    "    original.append(random.randint(0,100))\n",
    "    \n",
    "print(original)"
   ]
  },
  {
   "cell_type": "code",
   "execution_count": 69,
   "id": "248663f8-1616-4348-9223-c1ad1d68df64",
   "metadata": {
    "tags": []
   },
   "outputs": [],
   "source": [
    "#create new list\n",
    "edit = []"
   ]
  },
  {
   "cell_type": "code",
   "execution_count": 70,
   "id": "9bdd3175-f22a-4a64-b86f-d1dbdd824a32",
   "metadata": {
    "tags": []
   },
   "outputs": [],
   "source": [
    "#define the function to replace values\n",
    "def encode(original):\n",
    "    for n in original:\n",
    "        if n % 2==0:\n",
    "            edit.append(1)\n",
    "        else: edit.append(-1)\n",
    "    return edit"
   ]
  },
  {
   "cell_type": "code",
   "execution_count": 71,
   "id": "6d9996d1-eef2-4272-9597-38fe3d74b114",
   "metadata": {
    "tags": []
   },
   "outputs": [
    {
     "name": "stdout",
     "output_type": "stream",
     "text": [
      "[-1, 1, -1, 1, 1]\n"
     ]
    }
   ],
   "source": [
    "edited = encode(original)\n",
    "print(edited)"
   ]
  },
  {
   "cell_type": "markdown",
   "id": "84958c4a-0d32-40c1-9982-2173f9d9d4a6",
   "metadata": {},
   "source": [
    "### Problem 3- Rotating Tupels"
   ]
  },
  {
   "cell_type": "code",
   "execution_count": 72,
   "id": "b14cdae2-4100-4c3c-b294-2916e3568abb",
   "metadata": {
    "tags": []
   },
   "outputs": [
    {
     "data": {
      "text/plain": [
       "('41', 'John', 'Kennedy')"
      ]
     },
     "execution_count": 72,
     "metadata": {},
     "output_type": "execute_result"
    }
   ],
   "source": [
    "#set original tuple\n",
    "original=('John','Kennedy','41')\n",
    "\n",
    "#unpack in function, return in rotated order\n",
    "def rotate(original):\n",
    "    (a,b,c) = original \n",
    "    return c,a,b\n",
    "\n",
    "#put the original tuple into function\n",
    "rotate(original)"
   ]
  },
  {
   "cell_type": "markdown",
   "id": "0f8859c1-b6bf-4e8a-8666-b27e575a9318",
   "metadata": {},
   "source": [
    "### Problem 4- Creating a List of Tuples"
   ]
  },
  {
   "cell_type": "code",
   "execution_count": 73,
   "id": "53f0ab53-4db8-48a9-8333-611fcfb7c53e",
   "metadata": {
    "tags": []
   },
   "outputs": [],
   "source": [
    "#all 3 lists, seperate\n",
    "pfn = ['William','Theodore','William','Woodrow','Warren','Calvin','Herbert','Franklin','Harry','Dwight','John','Lyndon','Richard','Gerald','Jimmy','Ronald','George','William']\n",
    "pln = ['McKinley','Roosevelt','Taft','Wilson','Harding','Coolidge','Hoover','Roosevelt','Truman','Eisenhower','Kennedy','Johnson','Nixon','Ford','Carter','Reagan','Bush','Clinton']\n",
    "pn = list(range(25, 43))"
   ]
  },
  {
   "cell_type": "code",
   "execution_count": 74,
   "id": "3d0d988b-865c-4214-af16-65fe084f9714",
   "metadata": {
    "tags": []
   },
   "outputs": [],
   "source": [
    "#Combo function zips the three lists together, run function\n",
    "def combo(pfn,pln,pn):\n",
    "    combo_list=list(zip(pfn,pln,pn))\n",
    "    return combo_list\n",
    "combo_list = combo(pfn,pln,pn)"
   ]
  },
  {
   "cell_type": "code",
   "execution_count": 75,
   "id": "ab81a60c-ec7b-47f1-9951-11ec6e66044b",
   "metadata": {
    "tags": []
   },
   "outputs": [
    {
     "name": "stdout",
     "output_type": "stream",
     "text": [
      "[('William', 'McKinley', 25), ('Theodore', 'Roosevelt', 26), ('William', 'Taft', 27), ('Woodrow', 'Wilson', 28), ('Warren', 'Harding', 29), ('Calvin', 'Coolidge', 30), ('Herbert', 'Hoover', 31), ('Franklin', 'Roosevelt', 32), ('Harry', 'Truman', 33), ('Dwight', 'Eisenhower', 34), ('John', 'Kennedy', 35), ('Lyndon', 'Johnson', 36), ('Richard', 'Nixon', 37), ('Gerald', 'Ford', 38), ('Jimmy', 'Carter', 39), ('Ronald', 'Reagan', 40), ('George', 'Bush', 41), ('William', 'Clinton', 42)]\n"
     ]
    }
   ],
   "source": [
    "#Print the final tuple result\n",
    "print(combo_list)"
   ]
  },
  {
   "cell_type": "markdown",
   "id": "966e2e7f-9b81-4d09-a07b-d19dad48f1c8",
   "metadata": {},
   "source": [
    "### Problem 5- Finding Perfect Numbers"
   ]
  },
  {
   "cell_type": "code",
   "execution_count": 7,
   "id": "ccbd032c-5462-43c7-9d0b-63abae115d83",
   "metadata": {},
   "outputs": [
    {
     "name": "stdout",
     "output_type": "stream",
     "text": [
      "0 True\n",
      "1 False\n",
      "2 False\n",
      "3 False\n",
      "4 False\n",
      "5 False\n",
      "6 True\n",
      "7 False\n",
      "8 False\n",
      "9 False\n",
      "10 False\n",
      "11 False\n",
      "12 False\n",
      "13 False\n",
      "14 False\n",
      "15 False\n",
      "16 False\n",
      "17 False\n",
      "18 False\n",
      "19 False\n",
      "20 False\n",
      "21 False\n",
      "22 False\n",
      "23 False\n",
      "24 False\n",
      "25 False\n",
      "26 False\n",
      "27 False\n",
      "28 True\n",
      "29 False\n",
      "30 False\n",
      "31 False\n",
      "32 False\n",
      "33 False\n",
      "34 False\n",
      "35 False\n",
      "36 False\n",
      "37 False\n",
      "38 False\n",
      "39 False\n",
      "40 False\n",
      "41 False\n",
      "42 False\n",
      "43 False\n",
      "44 False\n",
      "45 False\n",
      "46 False\n",
      "47 False\n",
      "48 False\n",
      "49 False\n",
      "50 False\n",
      "51 False\n",
      "52 False\n",
      "53 False\n",
      "54 False\n",
      "55 False\n",
      "56 False\n",
      "57 False\n",
      "58 False\n",
      "59 False\n",
      "60 False\n",
      "61 False\n",
      "62 False\n",
      "63 False\n",
      "64 False\n",
      "65 False\n",
      "66 False\n",
      "67 False\n",
      "68 False\n",
      "69 False\n",
      "70 False\n",
      "71 False\n",
      "72 False\n",
      "73 False\n",
      "74 False\n",
      "75 False\n",
      "76 False\n",
      "77 False\n",
      "78 False\n",
      "79 False\n",
      "80 False\n",
      "81 False\n",
      "82 False\n",
      "83 False\n",
      "84 False\n",
      "85 False\n",
      "86 False\n",
      "87 False\n",
      "88 False\n",
      "89 False\n",
      "90 False\n",
      "91 False\n",
      "92 False\n",
      "93 False\n",
      "94 False\n",
      "95 False\n",
      "96 False\n",
      "97 False\n",
      "98 False\n",
      "99 False\n"
     ]
    }
   ],
   "source": [
    "def perfect_number(n):\n",
    "    divisor_sum = 0\n",
    "    for i in range(1, n // 2 + 1):\n",
    "        if n % i == 0:\n",
    "            divisor_sum += i\n",
    "\n",
    "    return divisor_sum == n\n",
    "\n",
    "def detect_perfect_numbers(number_list):\n",
    "    result = []\n",
    "    for num in number_list:\n",
    "        result.append((num, perfect_number(num)))\n",
    "    return result\n",
    "\n",
    "list1 = list(range(0,101))\n",
    "for num, is_perfect in perfect_numbers_result:\n",
    "    print(num, is_perfect)"
   ]
  },
  {
   "cell_type": "code",
   "execution_count": null,
   "id": "52d95705-adff-4f01-b554-5338a024d196",
   "metadata": {},
   "outputs": [],
   "source": []
  }
 ],
 "metadata": {
  "kernelspec": {
   "display_name": "Python 3 (ipykernel)",
   "language": "python",
   "name": "python3"
  },
  "language_info": {
   "codemirror_mode": {
    "name": "ipython",
    "version": 3
   },
   "file_extension": ".py",
   "mimetype": "text/x-python",
   "name": "python",
   "nbconvert_exporter": "python",
   "pygments_lexer": "ipython3",
   "version": "3.11.5"
  }
 },
 "nbformat": 4,
 "nbformat_minor": 5
}
